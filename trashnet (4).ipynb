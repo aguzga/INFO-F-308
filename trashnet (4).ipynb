{
  "nbformat": 4,
  "nbformat_minor": 0,
  "metadata": {
    "kernelspec": {
      "name": "python3",
      "display_name": "Python 3"
    },
    "language_info": {
      "codemirror_mode": {
        "name": "ipython",
        "version": 3
      },
      "file_extension": ".py",
      "mimetype": "text/x-python",
      "name": "python",
      "nbconvert_exporter": "python",
      "pygments_lexer": "ipython3",
      "version": "3.7.1"
    },
    "colab": {
      "name": "trashnet.ipynb",
      "provenance": [],
      "collapsed_sections": []
    },
    "accelerator": "GPU",
    "widgets": {
      "application/vnd.jupyter.widget-state+json": {
        "0ad7dbd5161e43ef9713fa3683b47b66": {
          "model_module": "@jupyter-widgets/controls",
          "model_name": "HBoxModel",
          "state": {
            "_view_name": "HBoxView",
            "_dom_classes": [],
            "_model_name": "HBoxModel",
            "_view_module": "@jupyter-widgets/controls",
            "_model_module_version": "1.5.0",
            "_view_count": null,
            "_view_module_version": "1.5.0",
            "box_style": "",
            "layout": "IPY_MODEL_6935201f08a3482a8be29406ee0ed35b",
            "_model_module": "@jupyter-widgets/controls",
            "children": [
              "IPY_MODEL_7a1317c6aefc4d37b46f05e53367371a",
              "IPY_MODEL_811d6e68b1b34261bb7f68edcb122629"
            ]
          }
        },
        "6935201f08a3482a8be29406ee0ed35b": {
          "model_module": "@jupyter-widgets/base",
          "model_name": "LayoutModel",
          "state": {
            "_view_name": "LayoutView",
            "grid_template_rows": null,
            "right": null,
            "justify_content": null,
            "_view_module": "@jupyter-widgets/base",
            "overflow": null,
            "_model_module_version": "1.2.0",
            "_view_count": null,
            "flex_flow": null,
            "width": null,
            "min_width": null,
            "border": null,
            "align_items": null,
            "bottom": null,
            "_model_module": "@jupyter-widgets/base",
            "top": null,
            "grid_column": null,
            "overflow_y": null,
            "overflow_x": null,
            "grid_auto_flow": null,
            "grid_area": null,
            "grid_template_columns": null,
            "flex": null,
            "_model_name": "LayoutModel",
            "justify_items": null,
            "grid_row": null,
            "max_height": null,
            "align_content": null,
            "visibility": null,
            "align_self": null,
            "height": null,
            "min_height": null,
            "padding": null,
            "grid_auto_rows": null,
            "grid_gap": null,
            "max_width": null,
            "order": null,
            "_view_module_version": "1.2.0",
            "grid_template_areas": null,
            "object_position": null,
            "object_fit": null,
            "grid_auto_columns": null,
            "margin": null,
            "display": null,
            "left": null
          }
        },
        "7a1317c6aefc4d37b46f05e53367371a": {
          "model_module": "@jupyter-widgets/controls",
          "model_name": "IntProgressModel",
          "state": {
            "_view_name": "ProgressView",
            "style": "IPY_MODEL_2891f7552163479facf3c0de83e895aa",
            "_dom_classes": [],
            "description": "100%",
            "_model_name": "IntProgressModel",
            "bar_style": "success",
            "max": 178728960,
            "_view_module": "@jupyter-widgets/controls",
            "_model_module_version": "1.5.0",
            "value": 178728960,
            "_view_count": null,
            "_view_module_version": "1.5.0",
            "orientation": "horizontal",
            "min": 0,
            "description_tooltip": null,
            "_model_module": "@jupyter-widgets/controls",
            "layout": "IPY_MODEL_ff2a819f4c4345abadc551e97b283634"
          }
        },
        "811d6e68b1b34261bb7f68edcb122629": {
          "model_module": "@jupyter-widgets/controls",
          "model_name": "HTMLModel",
          "state": {
            "_view_name": "HTMLView",
            "style": "IPY_MODEL_a2912ea1f8ec45e780f1d3d786c40bf9",
            "_dom_classes": [],
            "description": "",
            "_model_name": "HTMLModel",
            "placeholder": "​",
            "_view_module": "@jupyter-widgets/controls",
            "_model_module_version": "1.5.0",
            "value": " 170M/170M [04:27&lt;00:00, 669kB/s]",
            "_view_count": null,
            "_view_module_version": "1.5.0",
            "description_tooltip": null,
            "_model_module": "@jupyter-widgets/controls",
            "layout": "IPY_MODEL_def5f7a9701b49c39ac074d213c28c26"
          }
        },
        "2891f7552163479facf3c0de83e895aa": {
          "model_module": "@jupyter-widgets/controls",
          "model_name": "ProgressStyleModel",
          "state": {
            "_view_name": "StyleView",
            "_model_name": "ProgressStyleModel",
            "description_width": "initial",
            "_view_module": "@jupyter-widgets/base",
            "_model_module_version": "1.5.0",
            "_view_count": null,
            "_view_module_version": "1.2.0",
            "bar_color": null,
            "_model_module": "@jupyter-widgets/controls"
          }
        },
        "ff2a819f4c4345abadc551e97b283634": {
          "model_module": "@jupyter-widgets/base",
          "model_name": "LayoutModel",
          "state": {
            "_view_name": "LayoutView",
            "grid_template_rows": null,
            "right": null,
            "justify_content": null,
            "_view_module": "@jupyter-widgets/base",
            "overflow": null,
            "_model_module_version": "1.2.0",
            "_view_count": null,
            "flex_flow": null,
            "width": null,
            "min_width": null,
            "border": null,
            "align_items": null,
            "bottom": null,
            "_model_module": "@jupyter-widgets/base",
            "top": null,
            "grid_column": null,
            "overflow_y": null,
            "overflow_x": null,
            "grid_auto_flow": null,
            "grid_area": null,
            "grid_template_columns": null,
            "flex": null,
            "_model_name": "LayoutModel",
            "justify_items": null,
            "grid_row": null,
            "max_height": null,
            "align_content": null,
            "visibility": null,
            "align_self": null,
            "height": null,
            "min_height": null,
            "padding": null,
            "grid_auto_rows": null,
            "grid_gap": null,
            "max_width": null,
            "order": null,
            "_view_module_version": "1.2.0",
            "grid_template_areas": null,
            "object_position": null,
            "object_fit": null,
            "grid_auto_columns": null,
            "margin": null,
            "display": null,
            "left": null
          }
        },
        "a2912ea1f8ec45e780f1d3d786c40bf9": {
          "model_module": "@jupyter-widgets/controls",
          "model_name": "DescriptionStyleModel",
          "state": {
            "_view_name": "StyleView",
            "_model_name": "DescriptionStyleModel",
            "description_width": "",
            "_view_module": "@jupyter-widgets/base",
            "_model_module_version": "1.5.0",
            "_view_count": null,
            "_view_module_version": "1.2.0",
            "_model_module": "@jupyter-widgets/controls"
          }
        },
        "def5f7a9701b49c39ac074d213c28c26": {
          "model_module": "@jupyter-widgets/base",
          "model_name": "LayoutModel",
          "state": {
            "_view_name": "LayoutView",
            "grid_template_rows": null,
            "right": null,
            "justify_content": null,
            "_view_module": "@jupyter-widgets/base",
            "overflow": null,
            "_model_module_version": "1.2.0",
            "_view_count": null,
            "flex_flow": null,
            "width": null,
            "min_width": null,
            "border": null,
            "align_items": null,
            "bottom": null,
            "_model_module": "@jupyter-widgets/base",
            "top": null,
            "grid_column": null,
            "overflow_y": null,
            "overflow_x": null,
            "grid_auto_flow": null,
            "grid_area": null,
            "grid_template_columns": null,
            "flex": null,
            "_model_name": "LayoutModel",
            "justify_items": null,
            "grid_row": null,
            "max_height": null,
            "align_content": null,
            "visibility": null,
            "align_self": null,
            "height": null,
            "min_height": null,
            "padding": null,
            "grid_auto_rows": null,
            "grid_gap": null,
            "max_width": null,
            "order": null,
            "_view_module_version": "1.2.0",
            "grid_template_areas": null,
            "object_position": null,
            "object_fit": null,
            "grid_auto_columns": null,
            "margin": null,
            "display": null,
            "left": null
          }
        }
      }
    }
  },
  "cells": [
    {
      "cell_type": "code",
      "metadata": {
        "id": "8Mr2BYMiycWZ",
        "colab_type": "code",
        "colab": {}
      },
      "source": [
        "from fastai.vision import *\n",
        "from fastai.metrics import error_rate\n",
        "from pathlib import Path\n",
        "\n",
        "import pandas as pd\n",
        "import numpy as np\n",
        "import os\n",
        "import zipfile as zf\n",
        "import shutil\n",
        "import re"
      ],
      "execution_count": 0,
      "outputs": []
    },
    {
      "cell_type": "code",
      "metadata": {
        "id": "Epd1xp-UycWe",
        "colab_type": "code",
        "outputId": "b9ce4580-bae0-42c3-fdac-139ce37a7b39",
        "colab": {
          "base_uri": "https://localhost:8080/",
          "height": 34
        }
      },
      "source": [
        "torch.cuda.is_available()"
      ],
      "execution_count": 0,
      "outputs": [
        {
          "output_type": "execute_result",
          "data": {
            "text/plain": [
              "True"
            ]
          },
          "metadata": {
            "tags": []
          },
          "execution_count": 2
        }
      ]
    },
    {
      "cell_type": "code",
      "metadata": {
        "id": "xc1CoAODycWh",
        "colab_type": "code",
        "outputId": "c6df27d2-2723-4896-cee1-53dd18aa9e0d",
        "colab": {
          "base_uri": "https://localhost:8080/",
          "height": 34
        }
      },
      "source": [
        "torch.cuda.get_device_name(0)"
      ],
      "execution_count": 0,
      "outputs": [
        {
          "output_type": "execute_result",
          "data": {
            "text/plain": [
              "'Tesla K80'"
            ]
          },
          "metadata": {
            "tags": []
          },
          "execution_count": 3
        }
      ]
    },
    {
      "cell_type": "code",
      "metadata": {
        "id": "Qj0VR9Y7ycWj",
        "colab_type": "code",
        "outputId": "a34ad637-0e8d-4dbb-9072-581fc6199be2",
        "colab": {
          "base_uri": "https://localhost:8080/",
          "height": 34
        }
      },
      "source": [
        "files = zf.ZipFile(\"dataset-resized.zip\",'r')\n",
        "files.extractall()\n",
        "files.close()\n",
        "os.listdir(os.path.join(os.getcwd(),\"dataset-resized\"))"
      ],
      "execution_count": 0,
      "outputs": [
        {
          "output_type": "execute_result",
          "data": {
            "text/plain": [
              "['cardboard', 'plastic', 'glass', '.DS_Store', 'trash', 'metal', 'paper']"
            ]
          },
          "metadata": {
            "tags": []
          },
          "execution_count": 4
        }
      ]
    },
    {
      "cell_type": "code",
      "metadata": {
        "id": "nGbut1LlycWm",
        "colab_type": "code",
        "colab": {}
      },
      "source": [
        "## helper functions ##\n",
        "\n",
        "## splits indices for a folder into train, validation, and test indices with random sampling\n",
        "    ## input: folder path\n",
        "    ## output: train, valid, and test indices    \n",
        "def split_indices(folder,seed1,seed2):    \n",
        "    n = len(os.listdir(folder))\n",
        "    full_set = list(range(1,n+1))\n",
        "\n",
        "    ## train indices\n",
        "    random.seed(seed1)\n",
        "    train = random.sample(list(range(1,n+1)),int(.5*n))\n",
        "\n",
        "    ## temp\n",
        "    remain = list(set(full_set)-set(train))\n",
        "\n",
        "    ## separate remaining into validation and test\n",
        "    random.seed(seed2)\n",
        "    valid = random.sample(remain,int(.5*len(remain)))\n",
        "    test = list(set(remain)-set(valid))\n",
        "    \n",
        "    return(train,valid,test)\n",
        "\n",
        "## gets file names for a particular type of trash, given indices\n",
        "    ## input: waste category and indices\n",
        "    ## output: file names \n",
        "def get_names(waste_type,indices):\n",
        "    file_names = [waste_type+str(i)+\".jpg\" for i in indices]\n",
        "    return(file_names)    \n",
        "\n",
        "## moves group of source files to another folder\n",
        "    ## input: list of source files and destination folder\n",
        "    ## no output\n",
        "def move_files(source_files,destination_folder):\n",
        "    for file in source_files:\n",
        "        shutil.move(file,destination_folder)"
      ],
      "execution_count": 0,
      "outputs": []
    },
    {
      "cell_type": "code",
      "metadata": {
        "id": "R9qXfE3CycWo",
        "colab_type": "code",
        "colab": {}
      },
      "source": [
        "## paths will be train/cardboard, train/glass, etc...\n",
        "subsets = ['train','valid']\n",
        "waste_types = ['cardboard','glass','metal','paper','plastic','trash']\n",
        "\n",
        "## create destination folders for data subset and waste type\n",
        "for subset in subsets:\n",
        "    for waste_type in waste_types:\n",
        "        folder = os.path.join('data',subset,waste_type)\n",
        "        if not os.path.exists(folder):\n",
        "            os.makedirs(folder)\n",
        "            \n",
        "if not os.path.exists(os.path.join('data','test')):\n",
        "    os.makedirs(os.path.join('data','test'))\n",
        "            \n",
        "## move files to destination folders for each waste type\n",
        "for waste_type in waste_types:\n",
        "    source_folder = os.path.join('dataset-resized',waste_type)\n",
        "    train_ind, valid_ind, test_ind = split_indices(source_folder,1,1)\n",
        "    \n",
        "    ## move source files to train\n",
        "    train_names = get_names(waste_type,train_ind)\n",
        "    train_source_files = [os.path.join(source_folder,name) for name in train_names]\n",
        "    train_dest = \"data/train/\"+waste_type\n",
        "    move_files(train_source_files,train_dest)\n",
        "    \n",
        "    ## move source files to valid\n",
        "    valid_names = get_names(waste_type,valid_ind)\n",
        "    valid_source_files = [os.path.join(source_folder,name) for name in valid_names]\n",
        "    valid_dest = \"data/valid/\"+waste_type\n",
        "    move_files(valid_source_files,valid_dest)\n",
        "    \n",
        "    ## move source files to test\n",
        "    test_names = get_names(waste_type,test_ind)\n",
        "    test_source_files = [os.path.join(source_folder,name) for name in test_names]\n",
        "    ## I use data/test here because the images can be mixed up\n",
        "    move_files(test_source_files,\"data/test\")"
      ],
      "execution_count": 0,
      "outputs": []
    },
    {
      "cell_type": "code",
      "metadata": {
        "id": "PPAqKLYSycWs",
        "colab_type": "code",
        "outputId": "04699548-2c22-46ff-ba43-48f86a5f71e6",
        "colab": {
          "base_uri": "https://localhost:8080/",
          "height": 34
        }
      },
      "source": [
        "## get a path to the folder with images\n",
        "path = Path(os.getcwd())/\"data\"\n",
        "path"
      ],
      "execution_count": 0,
      "outputs": [
        {
          "output_type": "execute_result",
          "data": {
            "text/plain": [
              "PosixPath('/content/data')"
            ]
          },
          "metadata": {
            "tags": []
          },
          "execution_count": 7
        }
      ]
    },
    {
      "cell_type": "code",
      "metadata": {
        "id": "yltcKrAvycWv",
        "colab_type": "code",
        "colab": {}
      },
      "source": [
        "tfms = get_transforms(do_flip=True,flip_vert=True)\n",
        "data = data = ImageDataBunch.from_folder(path,test=\"test\",ds_tfms=tfms,bs=16)"
      ],
      "execution_count": 0,
      "outputs": []
    },
    {
      "cell_type": "code",
      "metadata": {
        "id": "y-nonpSiycWx",
        "colab_type": "code",
        "outputId": "dbedd5d8-c9ed-4537-9244-6f69741e4df9",
        "colab": {
          "base_uri": "https://localhost:8080/",
          "height": 398
        }
      },
      "source": [
        "data"
      ],
      "execution_count": 0,
      "outputs": [
        {
          "output_type": "execute_result",
          "data": {
            "text/plain": [
              "ImageDataBunch;\n",
              "\n",
              "Train: LabelList (1262 items)\n",
              "x: ImageList\n",
              "Image (3, 384, 512),Image (3, 384, 512),Image (3, 384, 512),Image (3, 384, 512),Image (3, 384, 512)\n",
              "y: CategoryList\n",
              "cardboard,cardboard,cardboard,cardboard,cardboard\n",
              "Path: /content/data;\n",
              "\n",
              "Valid: LabelList (630 items)\n",
              "x: ImageList\n",
              "Image (3, 384, 512),Image (3, 384, 512),Image (3, 384, 512),Image (3, 384, 512),Image (3, 384, 512)\n",
              "y: CategoryList\n",
              "cardboard,cardboard,cardboard,cardboard,cardboard\n",
              "Path: /content/data;\n",
              "\n",
              "Test: LabelList (635 items)\n",
              "x: ImageList\n",
              "Image (3, 384, 512),Image (3, 384, 512),Image (3, 384, 512),Image (3, 384, 512),Image (3, 384, 512)\n",
              "y: EmptyLabelList\n",
              ",,,,\n",
              "Path: /content/data"
            ]
          },
          "metadata": {
            "tags": []
          },
          "execution_count": 10
        }
      ]
    },
    {
      "cell_type": "code",
      "metadata": {
        "id": "jvth6HvmycW2",
        "colab_type": "code",
        "colab": {}
      },
      "source": [
        "torch.cuda.empty_cache()"
      ],
      "execution_count": 0,
      "outputs": []
    },
    {
      "cell_type": "code",
      "metadata": {
        "id": "gDvtDigCycW8",
        "colab_type": "code",
        "outputId": "b22d70e7-69e0-4138-a17f-abb4debe8798",
        "colab": {
          "base_uri": "https://localhost:8080/",
          "height": 103,
          "referenced_widgets": [
            "0ad7dbd5161e43ef9713fa3683b47b66",
            "6935201f08a3482a8be29406ee0ed35b",
            "7a1317c6aefc4d37b46f05e53367371a",
            "811d6e68b1b34261bb7f68edcb122629",
            "2891f7552163479facf3c0de83e895aa",
            "ff2a819f4c4345abadc551e97b283634",
            "a2912ea1f8ec45e780f1d3d786c40bf9",
            "def5f7a9701b49c39ac074d213c28c26"
          ]
        }
      },
      "source": [
        "learn = cnn_learner(data,models.resnet101,metrics=error_rate)"
      ],
      "execution_count": 0,
      "outputs": [
        {
          "output_type": "stream",
          "text": [
            "Downloading: \"https://download.pytorch.org/models/resnet101-5d3b4d8f.pth\" to /root/.cache/torch/checkpoints/resnet101-5d3b4d8f.pth\n"
          ],
          "name": "stderr"
        },
        {
          "output_type": "display_data",
          "data": {
            "application/vnd.jupyter.widget-view+json": {
              "model_id": "0ad7dbd5161e43ef9713fa3683b47b66",
              "version_minor": 0,
              "version_major": 2
            },
            "text/plain": [
              "HBox(children=(IntProgress(value=0, max=178728960), HTML(value='')))"
            ]
          },
          "metadata": {
            "tags": []
          }
        },
        {
          "output_type": "stream",
          "text": [
            "\n"
          ],
          "name": "stdout"
        }
      ]
    },
    {
      "cell_type": "code",
      "metadata": {
        "id": "2nUcfJUAycW-",
        "colab_type": "code",
        "outputId": "a6d7ca63-c7cf-4f54-c4f6-5a1ec9b380cc",
        "colab": {
          "base_uri": "https://localhost:8080/",
          "height": 989
        }
      },
      "source": [
        "learn.fit_one_cycle(30,max_lr=slice(5e-04,9e-04))"
      ],
      "execution_count": 0,
      "outputs": [
        {
          "output_type": "display_data",
          "data": {
            "text/html": [
              "<table border=\"1\" class=\"dataframe\">\n",
              "  <thead>\n",
              "    <tr style=\"text-align: left;\">\n",
              "      <th>epoch</th>\n",
              "      <th>train_loss</th>\n",
              "      <th>valid_loss</th>\n",
              "      <th>error_rate</th>\n",
              "      <th>time</th>\n",
              "    </tr>\n",
              "  </thead>\n",
              "  <tbody>\n",
              "    <tr>\n",
              "      <td>0</td>\n",
              "      <td>1.975516</td>\n",
              "      <td>0.950266</td>\n",
              "      <td>0.326984</td>\n",
              "      <td>02:29</td>\n",
              "    </tr>\n",
              "    <tr>\n",
              "      <td>1</td>\n",
              "      <td>1.280834</td>\n",
              "      <td>0.588602</td>\n",
              "      <td>0.204762</td>\n",
              "      <td>02:13</td>\n",
              "    </tr>\n",
              "    <tr>\n",
              "      <td>2</td>\n",
              "      <td>1.003060</td>\n",
              "      <td>0.473089</td>\n",
              "      <td>0.163492</td>\n",
              "      <td>02:13</td>\n",
              "    </tr>\n",
              "    <tr>\n",
              "      <td>3</td>\n",
              "      <td>0.723649</td>\n",
              "      <td>0.462252</td>\n",
              "      <td>0.149206</td>\n",
              "      <td>02:13</td>\n",
              "    </tr>\n",
              "    <tr>\n",
              "      <td>4</td>\n",
              "      <td>0.665609</td>\n",
              "      <td>0.369039</td>\n",
              "      <td>0.115873</td>\n",
              "      <td>02:13</td>\n",
              "    </tr>\n",
              "    <tr>\n",
              "      <td>5</td>\n",
              "      <td>0.574534</td>\n",
              "      <td>0.359355</td>\n",
              "      <td>0.104762</td>\n",
              "      <td>02:13</td>\n",
              "    </tr>\n",
              "    <tr>\n",
              "      <td>6</td>\n",
              "      <td>0.590391</td>\n",
              "      <td>0.429466</td>\n",
              "      <td>0.126984</td>\n",
              "      <td>02:13</td>\n",
              "    </tr>\n",
              "    <tr>\n",
              "      <td>7</td>\n",
              "      <td>0.424609</td>\n",
              "      <td>0.373233</td>\n",
              "      <td>0.112698</td>\n",
              "      <td>02:13</td>\n",
              "    </tr>\n",
              "    <tr>\n",
              "      <td>8</td>\n",
              "      <td>0.385741</td>\n",
              "      <td>0.311128</td>\n",
              "      <td>0.096825</td>\n",
              "      <td>02:13</td>\n",
              "    </tr>\n",
              "    <tr>\n",
              "      <td>9</td>\n",
              "      <td>0.338857</td>\n",
              "      <td>0.255307</td>\n",
              "      <td>0.080952</td>\n",
              "      <td>02:13</td>\n",
              "    </tr>\n",
              "    <tr>\n",
              "      <td>10</td>\n",
              "      <td>0.282223</td>\n",
              "      <td>0.283177</td>\n",
              "      <td>0.088889</td>\n",
              "      <td>02:13</td>\n",
              "    </tr>\n",
              "    <tr>\n",
              "      <td>11</td>\n",
              "      <td>0.295456</td>\n",
              "      <td>0.308991</td>\n",
              "      <td>0.087302</td>\n",
              "      <td>02:13</td>\n",
              "    </tr>\n",
              "    <tr>\n",
              "      <td>12</td>\n",
              "      <td>0.256832</td>\n",
              "      <td>0.271601</td>\n",
              "      <td>0.082540</td>\n",
              "      <td>02:13</td>\n",
              "    </tr>\n",
              "    <tr>\n",
              "      <td>13</td>\n",
              "      <td>0.212701</td>\n",
              "      <td>0.305422</td>\n",
              "      <td>0.092063</td>\n",
              "      <td>02:13</td>\n",
              "    </tr>\n",
              "    <tr>\n",
              "      <td>14</td>\n",
              "      <td>0.191569</td>\n",
              "      <td>0.265741</td>\n",
              "      <td>0.076190</td>\n",
              "      <td>02:13</td>\n",
              "    </tr>\n",
              "    <tr>\n",
              "      <td>15</td>\n",
              "      <td>0.171704</td>\n",
              "      <td>0.278919</td>\n",
              "      <td>0.080952</td>\n",
              "      <td>02:13</td>\n",
              "    </tr>\n",
              "    <tr>\n",
              "      <td>16</td>\n",
              "      <td>0.167990</td>\n",
              "      <td>0.245710</td>\n",
              "      <td>0.066667</td>\n",
              "      <td>02:13</td>\n",
              "    </tr>\n",
              "    <tr>\n",
              "      <td>17</td>\n",
              "      <td>0.140700</td>\n",
              "      <td>0.243100</td>\n",
              "      <td>0.071429</td>\n",
              "      <td>02:13</td>\n",
              "    </tr>\n",
              "    <tr>\n",
              "      <td>18</td>\n",
              "      <td>0.114311</td>\n",
              "      <td>0.215688</td>\n",
              "      <td>0.063492</td>\n",
              "      <td>02:13</td>\n",
              "    </tr>\n",
              "    <tr>\n",
              "      <td>19</td>\n",
              "      <td>0.109703</td>\n",
              "      <td>0.239865</td>\n",
              "      <td>0.074603</td>\n",
              "      <td>02:13</td>\n",
              "    </tr>\n",
              "    <tr>\n",
              "      <td>20</td>\n",
              "      <td>0.093758</td>\n",
              "      <td>0.182244</td>\n",
              "      <td>0.050794</td>\n",
              "      <td>02:13</td>\n",
              "    </tr>\n",
              "    <tr>\n",
              "      <td>21</td>\n",
              "      <td>0.079510</td>\n",
              "      <td>0.209862</td>\n",
              "      <td>0.057143</td>\n",
              "      <td>02:13</td>\n",
              "    </tr>\n",
              "    <tr>\n",
              "      <td>22</td>\n",
              "      <td>0.097671</td>\n",
              "      <td>0.231970</td>\n",
              "      <td>0.057143</td>\n",
              "      <td>02:13</td>\n",
              "    </tr>\n",
              "    <tr>\n",
              "      <td>23</td>\n",
              "      <td>0.071146</td>\n",
              "      <td>0.214817</td>\n",
              "      <td>0.057143</td>\n",
              "      <td>02:13</td>\n",
              "    </tr>\n",
              "    <tr>\n",
              "      <td>24</td>\n",
              "      <td>0.095877</td>\n",
              "      <td>0.207144</td>\n",
              "      <td>0.060317</td>\n",
              "      <td>02:13</td>\n",
              "    </tr>\n",
              "    <tr>\n",
              "      <td>25</td>\n",
              "      <td>0.088011</td>\n",
              "      <td>0.201900</td>\n",
              "      <td>0.052381</td>\n",
              "      <td>02:13</td>\n",
              "    </tr>\n",
              "    <tr>\n",
              "      <td>26</td>\n",
              "      <td>0.075918</td>\n",
              "      <td>0.200506</td>\n",
              "      <td>0.053968</td>\n",
              "      <td>02:13</td>\n",
              "    </tr>\n",
              "    <tr>\n",
              "      <td>27</td>\n",
              "      <td>0.074801</td>\n",
              "      <td>0.204993</td>\n",
              "      <td>0.058730</td>\n",
              "      <td>02:13</td>\n",
              "    </tr>\n",
              "    <tr>\n",
              "      <td>28</td>\n",
              "      <td>0.046989</td>\n",
              "      <td>0.188660</td>\n",
              "      <td>0.053968</td>\n",
              "      <td>02:13</td>\n",
              "    </tr>\n",
              "    <tr>\n",
              "      <td>29</td>\n",
              "      <td>0.067205</td>\n",
              "      <td>0.202002</td>\n",
              "      <td>0.052381</td>\n",
              "      <td>02:13</td>\n",
              "    </tr>\n",
              "  </tbody>\n",
              "</table>"
            ],
            "text/plain": [
              "<IPython.core.display.HTML object>"
            ]
          },
          "metadata": {
            "tags": []
          }
        }
      ]
    },
    {
      "cell_type": "code",
      "metadata": {
        "id": "WVcvHin8ycXD",
        "colab_type": "code",
        "colab": {}
      },
      "source": [
        "learn.save('96')"
      ],
      "execution_count": 0,
      "outputs": []
    },
    {
      "cell_type": "code",
      "metadata": {
        "id": "9MEL9oXZycXJ",
        "colab_type": "code",
        "colab": {}
      },
      "source": [
        "## delete everything when you're done to save space\n",
        "#shutil.rmtree(\"data\")\n",
        "#shutil.rmtree('dataset-resized')"
      ],
      "execution_count": 0,
      "outputs": []
    },
    {
      "cell_type": "code",
      "metadata": {
        "id": "1HU6bDCkycXK",
        "colab_type": "code",
        "outputId": "314076af-5d45-4981-ff73-2a8502cf0f25",
        "colab": {
          "base_uri": "https://localhost:8080/",
          "height": 17
        }
      },
      "source": [
        "preds = learn.get_preds(ds_type=DatasetType.Test)"
      ],
      "execution_count": 0,
      "outputs": [
        {
          "output_type": "display_data",
          "data": {
            "text/html": [
              ""
            ],
            "text/plain": [
              "<IPython.core.display.HTML object>"
            ]
          },
          "metadata": {
            "tags": []
          }
        }
      ]
    },
    {
      "cell_type": "code",
      "metadata": {
        "id": "xuLv1LprycXN",
        "colab_type": "code",
        "colab": {}
      },
      "source": [
        "max_idxs = np.asarray(np.argmax(preds[0],axis=1))"
      ],
      "execution_count": 0,
      "outputs": []
    },
    {
      "cell_type": "code",
      "metadata": {
        "id": "EWlvkyNzycXP",
        "colab_type": "code",
        "colab": {}
      },
      "source": [
        "yhat = []\n",
        "for max_idx in max_idxs:\n",
        "    yhat.append(data.classes[max_idx])"
      ],
      "execution_count": 0,
      "outputs": []
    },
    {
      "cell_type": "code",
      "metadata": {
        "id": "lpb4yljpycXR",
        "colab_type": "code",
        "colab": {}
      },
      "source": [
        "y = []\n",
        "\n",
        "## convert POSIX paths to string first\n",
        "for label_path in data.test_ds.items:\n",
        "    y.append(str(label_path))\n",
        "    \n",
        "## then extract waste type from file path\n",
        "pattern = re.compile(\"([a-z]+)[0-9]+\")\n",
        "for i in range(len(y)):\n",
        "    y[i] = pattern.search(y[i]).group(1)\n"
      ],
      "execution_count": 0,
      "outputs": []
    },
    {
      "cell_type": "code",
      "metadata": {
        "id": "jEz2HaD0ycXT",
        "colab_type": "code",
        "colab": {}
      },
      "source": [
        "## predicted values\n",
        "print(yhat[0:5])\n",
        "## actual values\n",
        "print(y[0:5])\n"
      ],
      "execution_count": 0,
      "outputs": []
    },
    {
      "cell_type": "code",
      "metadata": {
        "id": "3sHXa9PRycXX",
        "colab_type": "code",
        "outputId": "25f8ea36-539c-42d6-dbaa-9d1736f15771",
        "colab": {
          "base_uri": "https://localhost:8080/",
          "height": 34
        }
      },
      "source": [
        "correct = 0\n",
        "for i in range(len(y)):\n",
        "    if y[i] == yhat[i]:\n",
        "        correct += 1\n",
        "print(correct/len(y))"
      ],
      "execution_count": 0,
      "outputs": [
        {
          "output_type": "stream",
          "text": [
            "0.9464566929133859\n"
          ],
          "name": "stdout"
        }
      ]
    },
    {
      "cell_type": "code",
      "metadata": {
        "id": "YqE1KaF9ycXF",
        "colab_type": "code",
        "outputId": "fe5740db-3069-4403-a875-4fe0575eaef0",
        "colab": {
          "base_uri": "https://localhost:8080/",
          "height": 121
        }
      },
      "source": [
        "interp = ClassificationInterpretation.from_learner(learn)\n",
        "print(interp.confusion_matrix())"
      ],
      "execution_count": 0,
      "outputs": [
        {
          "output_type": "display_data",
          "data": {
            "text/html": [
              ""
            ],
            "text/plain": [
              "<IPython.core.display.HTML object>"
            ]
          },
          "metadata": {
            "tags": []
          }
        },
        {
          "output_type": "stream",
          "text": [
            "[[ 96   0   0   5   0   0]\n",
            " [  0 119   2   1   3   0]\n",
            " [  0   1 100   0   1   0]\n",
            " [  3   0   0 144   0   1]\n",
            " [  0   3   4   3 108   2]\n",
            " [  1   0   0   3   0  30]]\n"
          ],
          "name": "stdout"
        }
      ]
    },
    {
      "cell_type": "code",
      "metadata": {
        "id": "5ckV9qApNmHs",
        "colab_type": "code",
        "outputId": "d8b8d68a-0734-44d0-d1a4-e4c5ebd9c5c6",
        "colab": {
          "base_uri": "https://localhost:8080/",
          "height": 54
        }
      },
      "source": [
        "cm = interp.confusion_matrix()\n",
        "dico_classes = {0: [\"cardboard\"], 1:[\"glass\"], 2:[\"metal\"], 3:[\"paper\"], 4:[\"plastic\"], 5:[\"trash\"]}\n",
        "\n",
        "cm_list = []\n",
        "\n",
        "for i in range(6):\n",
        "  dico_cm = {\"TP\": 0, \"TN\": 0, \"FP\": 0, \"FN\": 0}\n",
        "  dico_cm[\"TP\"] = cm[i,i]\n",
        "  fn = 0\n",
        "  fp = 0\n",
        "  for j in range(6):\n",
        "    if i!=j:\n",
        "      fn+=cm[i][j]\n",
        "      fp+=cm[j][i]\n",
        "  dico_cm[\"TN\"] = cm.sum() - fn - fp - dico_cm[\"TP\"]\n",
        "  dico_cm[\"FP\"] = fp\n",
        "  dico_cm[\"FN\"] = fn\n",
        "  dico_classes[i].append(dico_cm)\n",
        "\n",
        "mcc_list = []\n",
        "for i in range(6):\n",
        "  mcc = dico_classes[i][1]\n",
        "  mcc_list.append((mcc[\"TP\"]*mcc[\"TN\"] - mcc[\"FP\"]*mcc[\"FN\"])/np.sqrt((mcc[\"TP\"]+mcc[\"FP\"])*(mcc[\"TP\"]+mcc[\"FN\"])*(mcc[\"TN\"]+mcc[\"FP\"])*(mcc[\"TN\"]+mcc[\"FN\"])))\n",
        "print(mcc_list)"
      ],
      "execution_count": 0,
      "outputs": [
        {
          "output_type": "stream",
          "text": [
            "[0.9467421339507643, 0.94984467680595, 0.9541903727182284, 0.9312073252501694, 0.9163112959562265, 0.8897667613779562]\n"
          ],
          "name": "stdout"
        }
      ]
    },
    {
      "cell_type": "code",
      "metadata": {
        "id": "w0Lg9Rvyz2GL",
        "colab_type": "code",
        "colab": {}
      },
      "source": [
        "data_no_augm = ImageDataBunch.from_folder(path,test=\"test\",bs=16)\n",
        "learn2 = cnn_learner(data_no_augm, models.resnet101, metrics = error_rate)"
      ],
      "execution_count": 0,
      "outputs": []
    },
    {
      "cell_type": "code",
      "metadata": {
        "id": "34twxaiwz3XC",
        "colab_type": "code",
        "outputId": "3780a291-c9dc-438a-edcd-2a84cb895da5",
        "colab": {
          "base_uri": "https://localhost:8080/",
          "height": 989
        }
      },
      "source": [
        "learn2.fit_one_cycle(30,max_lr=slice(5e-04,9e-04))"
      ],
      "execution_count": 0,
      "outputs": [
        {
          "output_type": "display_data",
          "data": {
            "text/html": [
              "<table border=\"1\" class=\"dataframe\">\n",
              "  <thead>\n",
              "    <tr style=\"text-align: left;\">\n",
              "      <th>epoch</th>\n",
              "      <th>train_loss</th>\n",
              "      <th>valid_loss</th>\n",
              "      <th>error_rate</th>\n",
              "      <th>time</th>\n",
              "    </tr>\n",
              "  </thead>\n",
              "  <tbody>\n",
              "    <tr>\n",
              "      <td>0</td>\n",
              "      <td>1.752836</td>\n",
              "      <td>0.739566</td>\n",
              "      <td>0.253968</td>\n",
              "      <td>02:12</td>\n",
              "    </tr>\n",
              "    <tr>\n",
              "      <td>1</td>\n",
              "      <td>1.129375</td>\n",
              "      <td>0.453864</td>\n",
              "      <td>0.146032</td>\n",
              "      <td>02:13</td>\n",
              "    </tr>\n",
              "    <tr>\n",
              "      <td>2</td>\n",
              "      <td>0.727846</td>\n",
              "      <td>0.363932</td>\n",
              "      <td>0.112698</td>\n",
              "      <td>02:12</td>\n",
              "    </tr>\n",
              "    <tr>\n",
              "      <td>3</td>\n",
              "      <td>0.510786</td>\n",
              "      <td>0.353821</td>\n",
              "      <td>0.120635</td>\n",
              "      <td>02:13</td>\n",
              "    </tr>\n",
              "    <tr>\n",
              "      <td>4</td>\n",
              "      <td>0.429158</td>\n",
              "      <td>0.400652</td>\n",
              "      <td>0.106349</td>\n",
              "      <td>02:12</td>\n",
              "    </tr>\n",
              "    <tr>\n",
              "      <td>5</td>\n",
              "      <td>0.344865</td>\n",
              "      <td>0.328244</td>\n",
              "      <td>0.087302</td>\n",
              "      <td>02:13</td>\n",
              "    </tr>\n",
              "    <tr>\n",
              "      <td>6</td>\n",
              "      <td>0.279917</td>\n",
              "      <td>0.264393</td>\n",
              "      <td>0.090476</td>\n",
              "      <td>02:12</td>\n",
              "    </tr>\n",
              "    <tr>\n",
              "      <td>7</td>\n",
              "      <td>0.244286</td>\n",
              "      <td>0.384130</td>\n",
              "      <td>0.111111</td>\n",
              "      <td>02:12</td>\n",
              "    </tr>\n",
              "    <tr>\n",
              "      <td>8</td>\n",
              "      <td>0.223341</td>\n",
              "      <td>0.326422</td>\n",
              "      <td>0.093651</td>\n",
              "      <td>02:12</td>\n",
              "    </tr>\n",
              "    <tr>\n",
              "      <td>9</td>\n",
              "      <td>0.228003</td>\n",
              "      <td>0.376473</td>\n",
              "      <td>0.112698</td>\n",
              "      <td>02:12</td>\n",
              "    </tr>\n",
              "    <tr>\n",
              "      <td>10</td>\n",
              "      <td>0.195087</td>\n",
              "      <td>0.354565</td>\n",
              "      <td>0.103175</td>\n",
              "      <td>02:12</td>\n",
              "    </tr>\n",
              "    <tr>\n",
              "      <td>11</td>\n",
              "      <td>0.151948</td>\n",
              "      <td>0.271653</td>\n",
              "      <td>0.082540</td>\n",
              "      <td>02:12</td>\n",
              "    </tr>\n",
              "    <tr>\n",
              "      <td>12</td>\n",
              "      <td>0.134701</td>\n",
              "      <td>0.359170</td>\n",
              "      <td>0.096825</td>\n",
              "      <td>02:12</td>\n",
              "    </tr>\n",
              "    <tr>\n",
              "      <td>13</td>\n",
              "      <td>0.082448</td>\n",
              "      <td>0.290527</td>\n",
              "      <td>0.082540</td>\n",
              "      <td>02:12</td>\n",
              "    </tr>\n",
              "    <tr>\n",
              "      <td>14</td>\n",
              "      <td>0.091294</td>\n",
              "      <td>0.339856</td>\n",
              "      <td>0.080952</td>\n",
              "      <td>02:12</td>\n",
              "    </tr>\n",
              "    <tr>\n",
              "      <td>15</td>\n",
              "      <td>0.067123</td>\n",
              "      <td>0.277086</td>\n",
              "      <td>0.084127</td>\n",
              "      <td>02:12</td>\n",
              "    </tr>\n",
              "    <tr>\n",
              "      <td>16</td>\n",
              "      <td>0.056547</td>\n",
              "      <td>0.295123</td>\n",
              "      <td>0.076190</td>\n",
              "      <td>02:12</td>\n",
              "    </tr>\n",
              "    <tr>\n",
              "      <td>17</td>\n",
              "      <td>0.057726</td>\n",
              "      <td>0.288235</td>\n",
              "      <td>0.082540</td>\n",
              "      <td>02:12</td>\n",
              "    </tr>\n",
              "    <tr>\n",
              "      <td>18</td>\n",
              "      <td>0.051568</td>\n",
              "      <td>0.333750</td>\n",
              "      <td>0.082540</td>\n",
              "      <td>02:12</td>\n",
              "    </tr>\n",
              "    <tr>\n",
              "      <td>19</td>\n",
              "      <td>0.038706</td>\n",
              "      <td>0.286325</td>\n",
              "      <td>0.074603</td>\n",
              "      <td>02:12</td>\n",
              "    </tr>\n",
              "    <tr>\n",
              "      <td>20</td>\n",
              "      <td>0.024823</td>\n",
              "      <td>0.300746</td>\n",
              "      <td>0.073016</td>\n",
              "      <td>02:12</td>\n",
              "    </tr>\n",
              "    <tr>\n",
              "      <td>21</td>\n",
              "      <td>0.034640</td>\n",
              "      <td>0.301701</td>\n",
              "      <td>0.068254</td>\n",
              "      <td>02:13</td>\n",
              "    </tr>\n",
              "    <tr>\n",
              "      <td>22</td>\n",
              "      <td>0.033900</td>\n",
              "      <td>0.287982</td>\n",
              "      <td>0.076190</td>\n",
              "      <td>02:12</td>\n",
              "    </tr>\n",
              "    <tr>\n",
              "      <td>23</td>\n",
              "      <td>0.021569</td>\n",
              "      <td>0.292301</td>\n",
              "      <td>0.071429</td>\n",
              "      <td>02:12</td>\n",
              "    </tr>\n",
              "    <tr>\n",
              "      <td>24</td>\n",
              "      <td>0.033642</td>\n",
              "      <td>0.262356</td>\n",
              "      <td>0.069841</td>\n",
              "      <td>02:12</td>\n",
              "    </tr>\n",
              "    <tr>\n",
              "      <td>25</td>\n",
              "      <td>0.023308</td>\n",
              "      <td>0.264719</td>\n",
              "      <td>0.069841</td>\n",
              "      <td>02:13</td>\n",
              "    </tr>\n",
              "    <tr>\n",
              "      <td>26</td>\n",
              "      <td>0.018720</td>\n",
              "      <td>0.276391</td>\n",
              "      <td>0.069841</td>\n",
              "      <td>02:12</td>\n",
              "    </tr>\n",
              "    <tr>\n",
              "      <td>27</td>\n",
              "      <td>0.033499</td>\n",
              "      <td>0.272806</td>\n",
              "      <td>0.069841</td>\n",
              "      <td>02:13</td>\n",
              "    </tr>\n",
              "    <tr>\n",
              "      <td>28</td>\n",
              "      <td>0.019785</td>\n",
              "      <td>0.264008</td>\n",
              "      <td>0.068254</td>\n",
              "      <td>02:12</td>\n",
              "    </tr>\n",
              "    <tr>\n",
              "      <td>29</td>\n",
              "      <td>0.022080</td>\n",
              "      <td>0.281627</td>\n",
              "      <td>0.066667</td>\n",
              "      <td>02:13</td>\n",
              "    </tr>\n",
              "  </tbody>\n",
              "</table>"
            ],
            "text/plain": [
              "<IPython.core.display.HTML object>"
            ]
          },
          "metadata": {
            "tags": []
          }
        }
      ]
    },
    {
      "cell_type": "code",
      "metadata": {
        "id": "0-V4dIIxz3Gk",
        "colab_type": "code",
        "outputId": "6d4a5e63-9351-4bc1-8751-d77b7e98518a",
        "colab": {
          "base_uri": "https://localhost:8080/",
          "height": 17
        }
      },
      "source": [
        "preds = learn2.get_preds(ds_type=DatasetType.Test)"
      ],
      "execution_count": 0,
      "outputs": [
        {
          "output_type": "display_data",
          "data": {
            "text/html": [
              ""
            ],
            "text/plain": [
              "<IPython.core.display.HTML object>"
            ]
          },
          "metadata": {
            "tags": []
          }
        }
      ]
    },
    {
      "cell_type": "code",
      "metadata": {
        "id": "86kNPuk7_-xc",
        "colab_type": "code",
        "outputId": "610f1846-5dc0-4093-f9c9-32bb2e3311a3",
        "colab": {
          "base_uri": "https://localhost:8080/",
          "height": 34
        }
      },
      "source": [
        "max_idxs = np.asarray(np.argmax(preds[0],axis=1))\n",
        "yhat = []\n",
        "for max_idx in max_idxs:\n",
        "    yhat.append(data.classes[max_idx])\n",
        "\n",
        "y = []\n",
        "\n",
        "## convert POSIX paths to string first\n",
        "for label_path in data.test_ds.items:\n",
        "    y.append(str(label_path))\n",
        "    \n",
        "## then extract waste type from file path\n",
        "pattern = re.compile(\"([a-z]+)[0-9]+\")\n",
        "for i in range(len(y)):\n",
        "    y[i] = pattern.search(y[i]).group(1)\n",
        "\n",
        "correct = 0\n",
        "for i in range(len(y)):\n",
        "    if y[i] == yhat[i]:\n",
        "        correct += 1\n",
        "print(correct/len(y))"
      ],
      "execution_count": 0,
      "outputs": [
        {
          "output_type": "stream",
          "text": [
            "0.937007874015748\n"
          ],
          "name": "stdout"
        }
      ]
    },
    {
      "cell_type": "code",
      "metadata": {
        "id": "89fPv_KN__Bx",
        "colab_type": "code",
        "outputId": "860f265e-b1ef-4f62-eaa2-d07b47725c07",
        "colab": {
          "base_uri": "https://localhost:8080/",
          "height": 54
        }
      },
      "source": [
        "interp2 = ClassificationInterpretation.from_learner(learn2)\n",
        "cm = interp2.confusion_matrix()\n",
        "dico_classes = {0: [\"cardboard\"], 1:[\"glass\"], 2:[\"metal\"], 3:[\"paper\"], 4:[\"plastic\"], 5:[\"trash\"]}\n",
        "\n",
        "cm_list = []\n",
        "\n",
        "for i in range(6):\n",
        "  dico_cm = {\"TP\": 0, \"TN\": 0, \"FP\": 0, \"FN\": 0}\n",
        "  dico_cm[\"TP\"] = cm[i,i]\n",
        "  fn = 0\n",
        "  fp = 0\n",
        "  for j in range(6):\n",
        "    if i!=j:\n",
        "      fn+=cm[i][j]\n",
        "      fp+=cm[j][i]\n",
        "  dico_cm[\"TN\"] = cm.sum() - fn - fp - dico_cm[\"TP\"]\n",
        "  dico_cm[\"FP\"] = fp\n",
        "  dico_cm[\"FN\"] = fn\n",
        "  dico_classes[i].append(dico_cm)\n",
        "\n",
        "mcc_list_no_augm = []\n",
        "for i in range(6):\n",
        "  mcc = dico_classes[i][1]\n",
        "  mcc_list_no_augm.append((mcc[\"TP\"]*mcc[\"TN\"] - mcc[\"FP\"]*mcc[\"FN\"])/np.sqrt((mcc[\"TP\"]+mcc[\"FP\"])*(mcc[\"TP\"]+mcc[\"FN\"])*(mcc[\"TN\"]+mcc[\"FP\"])*(mcc[\"TN\"]+mcc[\"FN\"])))\n",
        "print(mcc_list_no_augm)"
      ],
      "execution_count": 0,
      "outputs": [
        {
          "output_type": "display_data",
          "data": {
            "text/html": [
              ""
            ],
            "text/plain": [
              "<IPython.core.display.HTML object>"
            ]
          },
          "metadata": {
            "tags": []
          }
        },
        {
          "output_type": "stream",
          "text": [
            "[0.9410432536637406, 0.9297623831105812, 0.9420331620535666, 0.9511657582008919, 0.8726439565924299, 0.8020676480996135]\n"
          ],
          "name": "stdout"
        }
      ]
    },
    {
      "cell_type": "code",
      "metadata": {
        "id": "AxNZueLE__O2",
        "colab_type": "code",
        "outputId": "affe1121-62cb-415c-ea62-aeb6a35e5e73",
        "colab": {
          "base_uri": "https://localhost:8080/",
          "height": 286
        }
      },
      "source": [
        "import matplotlib.pyplot as plt\n",
        "import numpy as np\n",
        "dico_classes = {0: [\"cardboard\"], 1:[\"glass\"], 2:[\"metal\"], 3:[\"paper\"], 4:[\"plastic\"], 5:[\"trash\"]}\n",
        "mcc_list = [0.98, 0.95, 0.94, 0.97, 0.92, 0.88]\n",
        "\n",
        "mcc_sorted = np.argsort(np.array(mcc_list))\n",
        "print(mcc_sorted)\n",
        "N = 6\n",
        "\n",
        "ind = np.arange(N)  # the x locations for the groups\n",
        "width = 0.3       # the width of the bars\n",
        "\n",
        "fig = plt.figure()\n",
        "ax = fig.add_subplot(111)\n",
        "rects1 = ax.bar(ind-0.05, sorted(mcc_list), width, color='#5B84B1FF')\n",
        "\n",
        "mcc_list_no_augm = [0.95, 0.95, 0.95, 0.93, 0.92, 0.89]\n",
        "\n",
        "mcc_list_no_augm_follow = []\n",
        "for i in range(6):\n",
        "  mcc_list_no_augm_follow.append(mcc_list_no_augm[mcc_sorted[i]])\n",
        "\n",
        "rects2 = ax.bar(ind+width+0.05, mcc_list_no_augm_follow, width, color='#87CEEB')\n",
        "\n",
        "for b in rects1:\n",
        "    yval = b.get_height()\n",
        "    plt.text(b.get_x()-0.05, yval+0.01, np.round(yval,2))\n",
        "\n",
        "for b in rects2:\n",
        "  yval = b.get_height()\n",
        "  plt.text(b.get_x()-0.05, yval+0.01, np.round(yval,2))\n",
        "# add some\n",
        "ax.set_ylabel('')\n",
        "ax.set_title('')\n",
        "ax.set_xticks(ind + width / 2)\n",
        "classes = [dico_classes[i][0] for i in mcc_sorted]\n",
        "ax.set_xticklabels( classes )\n",
        "\n",
        "ax.legend( (rects1[0], rects2[0]), ('DenseNet121', 'ResNet101') , loc = 'upper left')\n",
        "\n",
        "axes = plt.gca()\n",
        "\n",
        "axes.set_ylim([0.7,1.05])\n",
        "\n",
        "plt.savefig(\"compare_mcc_resnet.png\")"
      ],
      "execution_count": 0,
      "outputs": [
        {
          "output_type": "stream",
          "text": [
            "[5 4 2 1 3 0]\n"
          ],
          "name": "stdout"
        },
        {
          "output_type": "display_data",
          "data": {
            "image/png": "[encoded data removed]",
            "text/plain": [
              "<Figure size 432x288 with 1 Axes>"
            ]
          },
          "metadata": {
            "tags": [],
            "needs_background": "light"
          }
        }
      ]
    },
    {
      "cell_type": "code",
      "metadata": {
        "id": "bzhJ6_L_Cltv",
        "colab_type": "code",
        "colab": {}
      },
      "source": [
        ""
      ],
      "execution_count": 0,
      "outputs": []
    },
    {
      "cell_type": "code",
      "metadata": {
        "id": "11CzBrJ8Cl6C",
        "colab_type": "code",
        "colab": {}
      },
      "source": [
        ""
      ],
      "execution_count": 0,
      "outputs": []
    },
    {
      "cell_type": "code",
      "metadata": {
        "id": "bUGXo3H1ycXa",
        "colab_type": "code",
        "colab": {}
      },
      "source": [
        "learn2 = cnn_learner(data,models.resnet18,metrics=error_rate).to_fp16()\n",
        "\n",
        "learn2.lr_find()\n",
        "learn2.recorder.plot()"
      ],
      "execution_count": 0,
      "outputs": []
    },
    {
      "cell_type": "code",
      "metadata": {
        "id": "QfMa43KjDuvQ",
        "colab_type": "code",
        "colab": {}
      },
      "source": [
        "learn2.fit_one_cycle(20, max_lr=2.5e-03)"
      ],
      "execution_count": 0,
      "outputs": []
    },
    {
      "cell_type": "code",
      "metadata": {
        "id": "ERVg3nGbAX9X",
        "colab_type": "code",
        "colab": {}
      },
      "source": [
        "learn2.lr_find()"
      ],
      "execution_count": 0,
      "outputs": []
    },
    {
      "cell_type": "code",
      "metadata": {
        "id": "Nm7t_vvKAhEp",
        "colab_type": "code",
        "colab": {}
      },
      "source": [
        "learn2.recorder.plot()"
      ],
      "execution_count": 0,
      "outputs": []
    },
    {
      "cell_type": "code",
      "metadata": {
        "id": "TZKUnlQiAzUl",
        "colab_type": "code",
        "colab": {}
      },
      "source": [
        "learn2.fit_one_cycle(4, max_lr=2e-05)"
      ],
      "execution_count": 0,
      "outputs": []
    },
    {
      "cell_type": "code",
      "metadata": {
        "id": "Ntulv_IWDvDR",
        "colab_type": "code",
        "colab": {}
      },
      "source": [
        "learn3 = cnn_learner(data,models.vgg11_bn,metrics=error_rate).to_fp16()"
      ],
      "execution_count": 0,
      "outputs": []
    },
    {
      "cell_type": "code",
      "metadata": {
        "id": "_FX6_QMtDvK3",
        "colab_type": "code",
        "colab": {}
      },
      "source": [
        "learn3.lr_find()\n",
        "learn3.recorder.plot()"
      ],
      "execution_count": 0,
      "outputs": []
    },
    {
      "cell_type": "code",
      "metadata": {
        "id": "gQz9oP-JDvTq",
        "colab_type": "code",
        "colab": {}
      },
      "source": [
        "learn3.fit_one_cycle(20, max_lr=5e-03)"
      ],
      "execution_count": 0,
      "outputs": []
    },
    {
      "cell_type": "code",
      "metadata": {
        "id": "sp0yLzLjDvbt",
        "colab_type": "code",
        "colab": {}
      },
      "source": [
        "learn3.lr_find()\n",
        "learn3.recorder.plot()"
      ],
      "execution_count": 0,
      "outputs": []
    },
    {
      "cell_type": "code",
      "metadata": {
        "id": "TyeVd2_dDvjS",
        "colab_type": "code",
        "colab": {}
      },
      "source": [
        "learn3.fit_one_cycle(10, max_lr=5e-03)"
      ],
      "execution_count": 0,
      "outputs": []
    },
    {
      "cell_type": "code",
      "metadata": {
        "id": "zW-kD_b5TfME",
        "colab_type": "code",
        "colab": {}
      },
      "source": [
        "learn4 = cnn_learner(data,models.alexnet,metrics=error_rate).to_fp16()"
      ],
      "execution_count": 0,
      "outputs": []
    },
    {
      "cell_type": "code",
      "metadata": {
        "id": "vzdQ2WkyTfbJ",
        "colab_type": "code",
        "colab": {}
      },
      "source": [
        "learn4.lr_find()\n",
        "learn4.recorder.plot()"
      ],
      "execution_count": 0,
      "outputs": []
    },
    {
      "cell_type": "code",
      "metadata": {
        "id": "0IdvL4LbTfhO",
        "colab_type": "code",
        "colab": {}
      },
      "source": [
        "learn4.fit_one_cycle(20, max_lr=5e-03)"
      ],
      "execution_count": 0,
      "outputs": []
    },
    {
      "cell_type": "code",
      "metadata": {
        "id": "5Nwgk4IhTfmi",
        "colab_type": "code",
        "colab": {}
      },
      "source": [
        ""
      ],
      "execution_count": 0,
      "outputs": []
    },
    {
      "cell_type": "code",
      "metadata": {
        "id": "AOMCYSFLTf8i",
        "colab_type": "code",
        "colab": {}
      },
      "source": [
        ""
      ],
      "execution_count": 0,
      "outputs": []
    },
    {
      "cell_type": "code",
      "metadata": {
        "id": "yomTTLK5TgFU",
        "colab_type": "code",
        "colab": {}
      },
      "source": [
        ""
      ],
      "execution_count": 0,
      "outputs": []
    },
    {
      "cell_type": "code",
      "metadata": {
        "id": "-VsQaDLBTgNV",
        "colab_type": "code",
        "colab": {}
      },
      "source": [
        ""
      ],
      "execution_count": 0,
      "outputs": []
    }
  ]
}